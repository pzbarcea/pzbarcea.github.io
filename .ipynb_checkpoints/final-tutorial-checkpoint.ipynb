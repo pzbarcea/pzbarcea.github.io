{
 "cells": [
  {
   "cell_type": "markdown",
   "metadata": {},
   "source": [
    "# Analysis of Stock Market trends"
   ]
  },
  {
   "cell_type": "markdown",
   "metadata": {},
   "source": [
    "### Irene Hao, Derek Mizushima, Paul Zbarcea"
   ]
  },
  {
   "cell_type": "markdown",
   "metadata": {},
   "source": [
    "## Introduction"
   ]
  },
  {
   "cell_type": "markdown",
   "metadata": {},
   "source": [
    "With the popularization of commission free trading, fractional shares, and easy access to financial data, investing has become easier and more accessible than ever. Coupled with many people being at home due to the pandemic, we have seen massive [growth in retail investors](https://www.businesswire.com/news/home/20200722005184/en/Retail-Investing-Continues-Its-Upward-Trend-in-Q2-as-DriveWealth-Sees-Record-Retail-Investing-Activity). Additionally, the market has been hitting [new highs](https://www.investors.com/market-trend/stock-market-today/dow-jones-rises-nasdaq-hits-new-high-amid-stimulus-hopes/) and breaking records, meaning this is a very good time to start or expand your trading. With stock trading growing in popularity, we thought it would be interesting to do an analysis on stock market trends which could give interested investors a leg-up on their competition, and lead to more informed decisions. Because there is so much data available, we think this is a good application for data science, since there is enough data (datapoints every second to minute, going back 50+ years) to train models, create interesting graphs, and if we find actionable results, this can even be used to make real-world financial decisions! (and who doesn't like making money?)\n",
    "\n",
    "In this tutorial we will use data sourced from [Yahoo Finance](https://finance.yahoo.com/) from the last 10 years to explore daily trends (to help you answer questions like: does the stock market go down on Friday?) and monthly trends (to help you answer questions like: is October the best month for the stock market?), as well as intraday trends, to see if there are optimized hours to make trades. We hope this will help traders, and get you more interested in financial markets!"
   ]
  },
  {
   "cell_type": "markdown",
   "metadata": {},
   "source": [
    "## Setup"
   ]
  },
  {
   "cell_type": "markdown",
   "metadata": {},
   "source": [
    "For this tutorial, you will need to be able to use Python. We recommend using [jupyter notebooks](https://jupyter.org/) as it is both intuitive, has a relatively nice UI, and allows you to see the outputs of your code as you run it block by block! \n",
    "\n",
    "In addition to an IDE that runs python, we will be getting data from Yahoo Finance using the [yfinance](https://pypi.org/project/yfinance/) and [yahoofinancials](https://pypi.org/project/yahoofinancials/) librarues so you need to install those. Installation directions for all OS types can be found at the links above. The easiest way to install is using pip, which is what we recommend.\n",
    "\n",
    "We will also need [Pandas](https://pandas.pydata.org/) for using the data returned from the libraries listed, along with [numpy](https://numpy.org/).\n",
    "\n",
    "Finally, you will need [sklearn](https://scikit-learn.org/stable/) for the machine learning analysis, [matplotlib.pyplot](https://matplotlib.org/3.3.3/api/_as_gen/matplotlib.pyplot.html) to generate the plots, and the datetime and calendar libraries to classify the data based on time trends.\n",
    "\n",
    "All the libraries you need are imported in the code below. If that works, you're all set and ready to go. If not, fix your installation(s) and try again!\n",
    "\n",
    "After you're done with the setup, we can hop into the fun part!"
   ]
  },
  {
   "cell_type": "code",
   "execution_count": 1,
   "metadata": {},
   "outputs": [],
   "source": [
    "# You need to import the libraries you just installed to be able to use them!\n",
    "import yfinance as yf\n",
    "from yahoofinancials import YahooFinancials\n",
    "import pandas as pd\n",
    "import pandasql as ps\n",
    "import numpy as np\n",
    "import datetime \n",
    "import calendar\n",
    "import matplotlib.pyplot as plt\n",
    "import sklearn\n",
    "from sklearn.neural_network import MLPClassifier"
   ]
  },
  {
   "cell_type": "markdown",
   "metadata": {},
   "source": [
    "## Collecting the Data"
   ]
  },
  {
   "cell_type": "markdown",
   "metadata": {},
   "source": [
    "Getting the data that you will use is the first step in any data science project. Getting good data is very important, as your conclusions can only be as good as the data you used! \n",
    "\n",
    "Luckily, the approach we are using gets data from Yahoo Finance, which is an established source and one of the most popular publication platforms of financial data. The data is detailed and allows for reporting in different specified periods, from 1 minute up to 5 years. Because this source is so established, we don't need to question the reliability as much and will not have to spend time \"cleaning\" missing/bad data for usage. Instead, cleaning in this case will be modifying the data and dataframe structure to meet our purposes. If you prefer other sources such as Bloomberg you can use the Bloomberg api like [this](https://stackoverflow.com/questions/19387868/how-do-i-store-data-from-the-bloomberg-api-into-a-pandas-dataframe), but our data collection will focus on using the more intuitive yahoo finance libraries.\n",
    "\n",
    "Getting the data is actually quite simple. Use the download command from the yfinance library to get the data as a Pandas dataframe, as shown below:"
   ]
  },
  {
   "cell_type": "code",
   "execution_count": 2,
   "metadata": {},
   "outputs": [
    {
     "name": "stdout",
     "output_type": "stream",
     "text": [
      "[*********************100%***********************]  1 of 1 completed\n"
     ]
    },
    {
     "data": {
      "text/html": [
       "<div>\n",
       "<style scoped>\n",
       "    .dataframe tbody tr th:only-of-type {\n",
       "        vertical-align: middle;\n",
       "    }\n",
       "\n",
       "    .dataframe tbody tr th {\n",
       "        vertical-align: top;\n",
       "    }\n",
       "\n",
       "    .dataframe thead th {\n",
       "        text-align: right;\n",
       "    }\n",
       "</style>\n",
       "<table border=\"1\" class=\"dataframe\">\n",
       "  <thead>\n",
       "    <tr style=\"text-align: right;\">\n",
       "      <th></th>\n",
       "      <th>Open</th>\n",
       "      <th>High</th>\n",
       "      <th>Low</th>\n",
       "      <th>Close</th>\n",
       "      <th>Adj Close</th>\n",
       "      <th>Volume</th>\n",
       "    </tr>\n",
       "    <tr>\n",
       "      <th>Date</th>\n",
       "      <th></th>\n",
       "      <th></th>\n",
       "      <th></th>\n",
       "      <th></th>\n",
       "      <th></th>\n",
       "      <th></th>\n",
       "    </tr>\n",
       "  </thead>\n",
       "  <tbody>\n",
       "    <tr>\n",
       "      <th>1986-03-13</th>\n",
       "      <td>0.088542</td>\n",
       "      <td>0.101562</td>\n",
       "      <td>0.088542</td>\n",
       "      <td>0.097222</td>\n",
       "      <td>0.061893</td>\n",
       "      <td>1031788800</td>\n",
       "    </tr>\n",
       "    <tr>\n",
       "      <th>1986-03-14</th>\n",
       "      <td>0.097222</td>\n",
       "      <td>0.102431</td>\n",
       "      <td>0.097222</td>\n",
       "      <td>0.100694</td>\n",
       "      <td>0.064103</td>\n",
       "      <td>308160000</td>\n",
       "    </tr>\n",
       "    <tr>\n",
       "      <th>1986-03-17</th>\n",
       "      <td>0.100694</td>\n",
       "      <td>0.103299</td>\n",
       "      <td>0.100694</td>\n",
       "      <td>0.102431</td>\n",
       "      <td>0.065209</td>\n",
       "      <td>133171200</td>\n",
       "    </tr>\n",
       "    <tr>\n",
       "      <th>1986-03-18</th>\n",
       "      <td>0.102431</td>\n",
       "      <td>0.103299</td>\n",
       "      <td>0.098958</td>\n",
       "      <td>0.099826</td>\n",
       "      <td>0.063551</td>\n",
       "      <td>67766400</td>\n",
       "    </tr>\n",
       "    <tr>\n",
       "      <th>1986-03-19</th>\n",
       "      <td>0.099826</td>\n",
       "      <td>0.100694</td>\n",
       "      <td>0.097222</td>\n",
       "      <td>0.098090</td>\n",
       "      <td>0.062446</td>\n",
       "      <td>47894400</td>\n",
       "    </tr>\n",
       "  </tbody>\n",
       "</table>\n",
       "</div>"
      ],
      "text/plain": [
       "                Open      High       Low     Close  Adj Close      Volume\n",
       "Date                                                                     \n",
       "1986-03-13  0.088542  0.101562  0.088542  0.097222   0.061893  1031788800\n",
       "1986-03-14  0.097222  0.102431  0.097222  0.100694   0.064103   308160000\n",
       "1986-03-17  0.100694  0.103299  0.100694  0.102431   0.065209   133171200\n",
       "1986-03-18  0.102431  0.103299  0.098958  0.099826   0.063551    67766400\n",
       "1986-03-19  0.099826  0.100694  0.097222  0.098090   0.062446    47894400"
      ]
     },
     "execution_count": 2,
     "metadata": {},
     "output_type": "execute_result"
    }
   ],
   "source": [
    "#Get data for Microsoft, which has the ticker MSFT:\n",
    "msft_df = yf.download('MSFT')\n",
    "msft_df.head(5)"
   ]
  },
  {
   "cell_type": "code",
   "execution_count": 3,
   "metadata": {},
   "outputs": [
    {
     "data": {
      "text/html": [
       "<div>\n",
       "<style scoped>\n",
       "    .dataframe tbody tr th:only-of-type {\n",
       "        vertical-align: middle;\n",
       "    }\n",
       "\n",
       "    .dataframe tbody tr th {\n",
       "        vertical-align: top;\n",
       "    }\n",
       "\n",
       "    .dataframe thead th {\n",
       "        text-align: right;\n",
       "    }\n",
       "</style>\n",
       "<table border=\"1\" class=\"dataframe\">\n",
       "  <thead>\n",
       "    <tr style=\"text-align: right;\">\n",
       "      <th></th>\n",
       "      <th>Open</th>\n",
       "      <th>High</th>\n",
       "      <th>Low</th>\n",
       "      <th>Close</th>\n",
       "      <th>Volume</th>\n",
       "    </tr>\n",
       "    <tr>\n",
       "      <th>Date</th>\n",
       "      <th></th>\n",
       "      <th></th>\n",
       "      <th></th>\n",
       "      <th></th>\n",
       "      <th></th>\n",
       "    </tr>\n",
       "  </thead>\n",
       "  <tbody>\n",
       "    <tr>\n",
       "      <th>2019-01-02</th>\n",
       "      <td>99.529999</td>\n",
       "      <td>100.550003</td>\n",
       "      <td>98.940002</td>\n",
       "      <td>100.125000</td>\n",
       "      <td>7816004</td>\n",
       "    </tr>\n",
       "    <tr>\n",
       "      <th>2019-01-02</th>\n",
       "      <td>100.150002</td>\n",
       "      <td>101.339996</td>\n",
       "      <td>99.959999</td>\n",
       "      <td>100.870003</td>\n",
       "      <td>4469627</td>\n",
       "    </tr>\n",
       "    <tr>\n",
       "      <th>2019-01-02</th>\n",
       "      <td>100.910004</td>\n",
       "      <td>100.985001</td>\n",
       "      <td>100.370003</td>\n",
       "      <td>100.570000</td>\n",
       "      <td>3459595</td>\n",
       "    </tr>\n",
       "    <tr>\n",
       "      <th>2019-01-02</th>\n",
       "      <td>100.570000</td>\n",
       "      <td>101.669998</td>\n",
       "      <td>100.529999</td>\n",
       "      <td>101.459999</td>\n",
       "      <td>2744377</td>\n",
       "    </tr>\n",
       "    <tr>\n",
       "      <th>2019-01-02</th>\n",
       "      <td>101.449997</td>\n",
       "      <td>101.750000</td>\n",
       "      <td>101.050003</td>\n",
       "      <td>101.190002</td>\n",
       "      <td>2678385</td>\n",
       "    </tr>\n",
       "    <tr>\n",
       "      <th>2019-01-02</th>\n",
       "      <td>101.199997</td>\n",
       "      <td>101.599998</td>\n",
       "      <td>100.480003</td>\n",
       "      <td>100.550003</td>\n",
       "      <td>3321056</td>\n",
       "    </tr>\n",
       "    <tr>\n",
       "      <th>2019-01-02</th>\n",
       "      <td>100.540001</td>\n",
       "      <td>101.330002</td>\n",
       "      <td>100.309998</td>\n",
       "      <td>101.129997</td>\n",
       "      <td>3198214</td>\n",
       "    </tr>\n",
       "    <tr>\n",
       "      <th>2019-01-03</th>\n",
       "      <td>100.040001</td>\n",
       "      <td>100.129997</td>\n",
       "      <td>97.739998</td>\n",
       "      <td>98.355003</td>\n",
       "      <td>8864301</td>\n",
       "    </tr>\n",
       "    <tr>\n",
       "      <th>2019-01-03</th>\n",
       "      <td>98.360001</td>\n",
       "      <td>98.879997</td>\n",
       "      <td>97.459999</td>\n",
       "      <td>98.470001</td>\n",
       "      <td>6051253</td>\n",
       "    </tr>\n",
       "    <tr>\n",
       "      <th>2019-01-03</th>\n",
       "      <td>98.500000</td>\n",
       "      <td>99.589401</td>\n",
       "      <td>98.290001</td>\n",
       "      <td>98.779999</td>\n",
       "      <td>3913438</td>\n",
       "    </tr>\n",
       "  </tbody>\n",
       "</table>\n",
       "</div>"
      ],
      "text/plain": [
       "                  Open        High         Low       Close   Volume\n",
       "Date                                                               \n",
       "2019-01-02   99.529999  100.550003   98.940002  100.125000  7816004\n",
       "2019-01-02  100.150002  101.339996   99.959999  100.870003  4469627\n",
       "2019-01-02  100.910004  100.985001  100.370003  100.570000  3459595\n",
       "2019-01-02  100.570000  101.669998  100.529999  101.459999  2744377\n",
       "2019-01-02  101.449997  101.750000  101.050003  101.190002  2678385\n",
       "2019-01-02  101.199997  101.599998  100.480003  100.550003  3321056\n",
       "2019-01-02  100.540001  101.330002  100.309998  101.129997  3198214\n",
       "2019-01-03  100.040001  100.129997   97.739998   98.355003  8864301\n",
       "2019-01-03   98.360001   98.879997   97.459999   98.470001  6051253\n",
       "2019-01-03   98.500000   99.589401   98.290001   98.779999  3913438"
      ]
     },
     "execution_count": 3,
     "metadata": {},
     "output_type": "execute_result"
    }
   ],
   "source": [
    "# By default, the download function(shown above) will use the interval of 1 day to get the daily stock price.\n",
    "# However, we can specify our own interval and frequency like this:\n",
    "\n",
    "#This gets data from all of the 2019 year for MSFT, with 1 hour intervals\n",
    "msft_df = yf.download('MSFT', \n",
    "                      #If you don't like using specific start and end, use the period argument\n",
    "                      # example: period='1y' to get the last year worth of data\n",
    "                      start='2019-01-01', \n",
    "                      end='2019-12-31', \n",
    "                      progress=False,\n",
    "                      auto_adjust=True, #this corrects for things like stock splits\n",
    "                      interval='1h')\n",
    "msft_df.head(10)\n",
    "\n",
    "# Some of the usable intervals are 1m, 5m, 15m, 30m, 60m, 1h, 1d, 1wk, 1mo \n",
    "# We will make use of these intervals to analyze trends based on time"
   ]
  },
  {
   "cell_type": "markdown",
   "metadata": {},
   "source": [
    "As we can see, what is returned contains columns with the date when the price was recorded, the Open, High, Low, and Close values for the stock price during the interval specified, and the Volume of shares traded.\n",
    "\n",
    "For more documentation visit the yfinance library documentation either at the link above or at the [GitHub repository](https://github.com/ranaroussi/yfinance). Feel free to experiment with the arguments passed into the function, by changing the ones we listed and by adding more. Some interesting ones would be prepost, which would include pre-market and post-market data in the result."
   ]
  },
  {
   "cell_type": "markdown",
   "metadata": {},
   "source": [
    "## Cleaning the Data"
   ]
  },
  {
   "cell_type": "markdown",
   "metadata": {},
   "source": [
    "Now that we know how to get the data, we have to \"clean\" or modify it for our purposes. To explain how we will clean the data to fit our needs, first we have to outline how we plan to use the data.\n",
    "\n",
    "In this tutorial, we plan to explore trends based on time. That means we need data separated by our 3 intervals that we will explore: hourly, weekly, and monthly. To compare the data to each other, we need a way to label each into a proper classification. For example, we cannot compare the trends of Jan 1, 2019 to Jan 2, 2019 without knowing what day of the week they were.\n",
    "\n",
    "***\n",
    "\n",
    "So here is the plan: <br/>\n",
    "**(1) Get the data** (hourly data, daily data, monthly data) <br/>\n",
    "**(2) Label the data** (by Month, by Day of the Week, and by Hour)  <br/>\n",
    "**(3) Generate Deltas to compare** (calculate the change in price, as a percentage, since the last price measured and since the day's open)  <br/>\n",
    "**(4) Aggregate the data** (turn 10 years of monthly data into 12 averages, one for each month. Repeat the process for hour and day)  <br/>\n",
    "**(5) Plot the data** (visual representations are fun and helpful!)  <br/>\n",
    "**(6) Analyze the data** (apply machine learning predictions to confirm any trends we can see)  <br/>  <br/>\n",
    "\n",
    "Always try to think ahead to what types of data you will need and use. Then jot down a quick outline. Clear steps like these let us know how to clean our data!"
   ]
  },
  {
   "cell_type": "markdown",
   "metadata": {},
   "source": [
    "Let's get started with our first step **(1) Get the data**. We plan to explore MSFT's performance, and also the NASDAQ index, since one stock might have a trend (which is cool), but might not be indicative of the whole market. Let's get hourly, daily, and monthly data for both:"
   ]
  },
  {
   "cell_type": "code",
   "execution_count": 4,
   "metadata": {},
   "outputs": [
    {
     "data": {
      "text/html": [
       "<div>\n",
       "<style scoped>\n",
       "    .dataframe tbody tr th:only-of-type {\n",
       "        vertical-align: middle;\n",
       "    }\n",
       "\n",
       "    .dataframe tbody tr th {\n",
       "        vertical-align: top;\n",
       "    }\n",
       "\n",
       "    .dataframe thead th {\n",
       "        text-align: right;\n",
       "    }\n",
       "</style>\n",
       "<table border=\"1\" class=\"dataframe\">\n",
       "  <thead>\n",
       "    <tr style=\"text-align: right;\">\n",
       "      <th></th>\n",
       "      <th>Open</th>\n",
       "      <th>High</th>\n",
       "      <th>Low</th>\n",
       "      <th>Close</th>\n",
       "      <th>Volume</th>\n",
       "    </tr>\n",
       "    <tr>\n",
       "      <th>Date</th>\n",
       "      <th></th>\n",
       "      <th></th>\n",
       "      <th></th>\n",
       "      <th></th>\n",
       "      <th></th>\n",
       "    </tr>\n",
       "  </thead>\n",
       "  <tbody>\n",
       "    <tr>\n",
       "      <th>2020-04-01</th>\n",
       "      <td>7459.500000</td>\n",
       "      <td>8957.269531</td>\n",
       "      <td>7288.109863</td>\n",
       "      <td>8889.549805</td>\n",
       "      <td>78697140000</td>\n",
       "    </tr>\n",
       "    <tr>\n",
       "      <th>2020-05-01</th>\n",
       "      <td>8681.290039</td>\n",
       "      <td>9523.639648</td>\n",
       "      <td>8537.830078</td>\n",
       "      <td>9489.870117</td>\n",
       "      <td>76347800000</td>\n",
       "    </tr>\n",
       "    <tr>\n",
       "      <th>2020-06-01</th>\n",
       "      <td>9471.419922</td>\n",
       "      <td>10221.849609</td>\n",
       "      <td>9403.000000</td>\n",
       "      <td>10058.769531</td>\n",
       "      <td>111455270000</td>\n",
       "    </tr>\n",
       "    <tr>\n",
       "      <th>2020-07-01</th>\n",
       "      <td>10063.669922</td>\n",
       "      <td>10839.929688</td>\n",
       "      <td>10048.040039</td>\n",
       "      <td>10745.269531</td>\n",
       "      <td>94321170000</td>\n",
       "    </tr>\n",
       "    <tr>\n",
       "      <th>2020-08-01</th>\n",
       "      <td>10848.639648</td>\n",
       "      <td>11829.839844</td>\n",
       "      <td>10762.709961</td>\n",
       "      <td>11775.459961</td>\n",
       "      <td>78408230000</td>\n",
       "    </tr>\n",
       "    <tr>\n",
       "      <th>2020-09-01</th>\n",
       "      <td>11850.959961</td>\n",
       "      <td>12074.059570</td>\n",
       "      <td>10519.490234</td>\n",
       "      <td>11167.509766</td>\n",
       "      <td>82059450000</td>\n",
       "    </tr>\n",
       "    <tr>\n",
       "      <th>2020-10-01</th>\n",
       "      <td>11291.990234</td>\n",
       "      <td>11965.540039</td>\n",
       "      <td>10822.570312</td>\n",
       "      <td>10911.589844</td>\n",
       "      <td>77827120000</td>\n",
       "    </tr>\n",
       "    <tr>\n",
       "      <th>2020-11-01</th>\n",
       "      <td>11010.450195</td>\n",
       "      <td>12244.650391</td>\n",
       "      <td>10830.950195</td>\n",
       "      <td>12198.740234</td>\n",
       "      <td>90598610000</td>\n",
       "    </tr>\n",
       "    <tr>\n",
       "      <th>2020-12-01</th>\n",
       "      <td>12313.360352</td>\n",
       "      <td>12809.599609</td>\n",
       "      <td>12214.740234</td>\n",
       "      <td>12755.639648</td>\n",
       "      <td>70694540000</td>\n",
       "    </tr>\n",
       "    <tr>\n",
       "      <th>2020-12-18</th>\n",
       "      <td>12804.900391</td>\n",
       "      <td>12809.600586</td>\n",
       "      <td>12654.604492</td>\n",
       "      <td>12755.637695</td>\n",
       "      <td>2478151230</td>\n",
       "    </tr>\n",
       "  </tbody>\n",
       "</table>\n",
       "</div>"
      ],
      "text/plain": [
       "                    Open          High           Low         Close  \\\n",
       "Date                                                                 \n",
       "2020-04-01   7459.500000   8957.269531   7288.109863   8889.549805   \n",
       "2020-05-01   8681.290039   9523.639648   8537.830078   9489.870117   \n",
       "2020-06-01   9471.419922  10221.849609   9403.000000  10058.769531   \n",
       "2020-07-01  10063.669922  10839.929688  10048.040039  10745.269531   \n",
       "2020-08-01  10848.639648  11829.839844  10762.709961  11775.459961   \n",
       "2020-09-01  11850.959961  12074.059570  10519.490234  11167.509766   \n",
       "2020-10-01  11291.990234  11965.540039  10822.570312  10911.589844   \n",
       "2020-11-01  11010.450195  12244.650391  10830.950195  12198.740234   \n",
       "2020-12-01  12313.360352  12809.599609  12214.740234  12755.639648   \n",
       "2020-12-18  12804.900391  12809.600586  12654.604492  12755.637695   \n",
       "\n",
       "                  Volume  \n",
       "Date                      \n",
       "2020-04-01   78697140000  \n",
       "2020-05-01   76347800000  \n",
       "2020-06-01  111455270000  \n",
       "2020-07-01   94321170000  \n",
       "2020-08-01   78408230000  \n",
       "2020-09-01   82059450000  \n",
       "2020-10-01   77827120000  \n",
       "2020-11-01   90598610000  \n",
       "2020-12-01   70694540000  \n",
       "2020-12-18    2478151230  "
      ]
     },
     "execution_count": 4,
     "metadata": {},
     "output_type": "execute_result"
    }
   ],
   "source": [
    "# Clearly label each variable so we know what each represents\n",
    "msft_hourly = yf.download('MSFT', \n",
    "                      period='730d', \n",
    "                      progress=False,\n",
    "                      auto_adjust=True,\n",
    "                      interval='1h')\n",
    "\n",
    "msft_daily = yf.download('MSFT', \n",
    "                      period='10y', \n",
    "                      progress=False,\n",
    "                      auto_adjust=True,\n",
    "                      interval='1d')\n",
    "\n",
    "msft_monthly = yf.download('MSFT', \n",
    "                      period='10y', \n",
    "                      progress=False,\n",
    "                      auto_adjust=True,\n",
    "                      interval='1mo')\n",
    "\n",
    "# '^IXIC' is the yahoo finance ticker for the NASDAQ index. For S&P500 use '^GSPC'\n",
    "nasdaq_hourly = yf.download('^IXIC', \n",
    "                      period='730d', \n",
    "                      progress=False,\n",
    "                      auto_adjust=True,\n",
    "                      interval='1h')\n",
    "\n",
    "nasdaq_daily = yf.download('^IXIC', \n",
    "                      period='10y', \n",
    "                      progress=False,\n",
    "                      auto_adjust=True,\n",
    "                      interval='1d')\n",
    "\n",
    "nasdaq_monthly = yf.download('^IXIC', \n",
    "                      period='10y', \n",
    "                      progress=False,\n",
    "                      auto_adjust=True,\n",
    "                      interval='1mo')\n",
    "\n",
    "# print out the last 10 months of the NASDAQ index\n",
    "nasdaq_monthly.tail(10)"
   ]
  },
  {
   "cell_type": "markdown",
   "metadata": {},
   "source": [
    "There are a few things to note from the last code snippet. \n",
    "\n",
    "First, you must write 'mo' for month as opposed to 'm' because 'm' will give you minutes, so pay attention to this when writing your own code!\n",
    "\n",
    "Second, we use 730 days as the period for the hourly data, but 10 years as the period for monthly and daily data. This is because this library will not download hourly data for a period larger than 730 days. If you want the full 10 years, you must download the data as a JSON using the alternative yahoofinancials library we mentioned before, and then parse the data from a JSON into a pandas dataframe. Because that process is more complicated, we opted to demonstrate this more straightforward approach, but again feel free to make improvements when you write your own program. For our purposes, 730 days should be more than enough sample size to find hourly trends.\n",
    "\n",
    " *** \n",
    " \n",
    "Now that we have those points out of the way, let's talk about **(2) Label the data**. While this is fairly straightforward, you have to keep some things in mind about the data. The stock market does not open every day. Weekends are missing since the market only opens Monday-Friday. Also, there are some dates even M-F that are missing (the NYSE closes for holidays). Moreover, some of the hourly data is incongruent day-to-day because the NYSE closes early some days (the days before Thanksgiving and Christmas, for example).\n",
    "\n",
    "See the NYSE schedule and special hours of operations [here](https://www.nyse.com/markets/hours-calendars#:~:text=*%20Each%20market%20will%20close%20early,(the%20day%20after%20Thanksgiving).&text=**%20Each%20market%20will%20close,Thursday%2C%20December%2024%2C%202020.).\n",
    "\n",
    "Always remember to keep in mind how your data is formatted, and what might be missing/present that changes how you work with in. In this case, because not every week or day is the same, we can't use a naive approach like creating a list 1-5 and expanding it to fit the number of days. Instead, we have to iterate through every day and check what day it is using the weekday() function from the datetime module.\n",
    "\n",
    "*** \n",
    "\n",
    "Right now, our data is indexed by date. This makes accessing each row cumbersome. The first 5 row indices are listed below:"
   ]
  },
  {
   "cell_type": "code",
   "execution_count": 5,
   "metadata": {},
   "outputs": [
    {
     "data": {
      "text/plain": [
       "[Timestamp('2018-01-29 00:00:00'),\n",
       " Timestamp('2018-01-29 00:00:00'),\n",
       " Timestamp('2018-01-29 00:00:00'),\n",
       " Timestamp('2018-01-29 00:00:00'),\n",
       " Timestamp('2018-01-29 00:00:00')]"
      ]
     },
     "execution_count": 5,
     "metadata": {},
     "output_type": "execute_result"
    }
   ],
   "source": [
    "#Show the ugly index that we have to change\n",
    "nasdaq_hourly.index.tolist()[:5]"
   ]
  },
  {
   "cell_type": "markdown",
   "metadata": {},
   "source": [
    "To remedy this, let's reset all the indices for each dataframe. Don't worry, the date will still be kept as a separate column!\n",
    "\n",
    "Meanwhile, let's also drop any values with NaN, since they are unusable."
   ]
  },
  {
   "cell_type": "code",
   "execution_count": 6,
   "metadata": {},
   "outputs": [],
   "source": [
    "#reset the indices with the aptly named reset_index() function\n",
    "msft_hourly = msft_hourly.dropna().reset_index()\n",
    "msft_daily = msft_daily.dropna().reset_index()\n",
    "msft_monthly = msft_monthly.dropna().reset_index()\n",
    "\n",
    "nasdaq_hourly = nasdaq_hourly.dropna().reset_index()\n",
    "nasdaq_daily = nasdaq_daily.dropna().reset_index()\n",
    "nasdaq_monthly = nasdaq_monthly.dropna().reset_index()"
   ]
  },
  {
   "cell_type": "markdown",
   "metadata": {},
   "source": [
    "Let's see the updated indices:"
   ]
  },
  {
   "cell_type": "code",
   "execution_count": 7,
   "metadata": {},
   "outputs": [
    {
     "data": {
      "text/plain": [
       "[0, 1, 2, 3, 4]"
      ]
     },
     "execution_count": 7,
     "metadata": {},
     "output_type": "execute_result"
    }
   ],
   "source": [
    "nasdaq_hourly.index.tolist()[:5]"
   ]
  },
  {
   "cell_type": "markdown",
   "metadata": {},
   "source": [
    "Beautiful. Now let's add a column named 'Weekday' to the daily dataframes, then iterate over each row to populate the column."
   ]
  },
  {
   "cell_type": "code",
   "execution_count": 8,
   "metadata": {},
   "outputs": [],
   "source": [
    "#Create a helper function that returns a list of weekdays, given a dataframe\n",
    "def get_weekdays(df):\n",
    "    to_return = []\n",
    "    for i in range(len(df)):\n",
    "        #.weekday() returns 0 for Monday, 6 for Sunday. Expect to see a lot of 0-4's\n",
    "        to_return.append(df.loc[i]['Date'].weekday())\n",
    "\n",
    "    return to_return"
   ]
  },
  {
   "cell_type": "code",
   "execution_count": 9,
   "metadata": {},
   "outputs": [],
   "source": [
    "#Use the function we wrote above to update each dataframe\n",
    "msft_daily.insert(1,'Weekday',get_weekdays(msft_daily))\n",
    "\n",
    "nasdaq_daily.insert(1,'Weekday',get_weekdays(nasdaq_daily))"
   ]
  },
  {
   "cell_type": "markdown",
   "metadata": {},
   "source": [
    "Let's add the months to the monthly dataframes:"
   ]
  },
  {
   "cell_type": "code",
   "execution_count": 10,
   "metadata": {},
   "outputs": [],
   "source": [
    "#Create a helper function that returns a list of months, given a dataframe\n",
    "def get_months(df):\n",
    "    to_return = []\n",
    "    for i in range(len(df)):\n",
    "        #.month returns 1 for January, 12 for December\n",
    "        to_return.append(df.loc[i]['Date'].month)\n",
    "\n",
    "    return to_return\n",
    "\n",
    "#Use the function we wrote above to update each dataframe\n",
    "msft_monthly.insert(1,'Month',get_months(msft_monthly))\n",
    "\n",
    "nasdaq_monthly.insert(1,'Month',get_months(nasdaq_monthly))"
   ]
  },
  {
   "cell_type": "markdown",
   "metadata": {},
   "source": [
    "Now let's add hour indicators to the hourly dataframes:"
   ]
  },
  {
   "cell_type": "code",
   "execution_count": 11,
   "metadata": {},
   "outputs": [],
   "source": [
    "#Create a helper function that returns a list of months, given a dataframe\n",
    "def get_hours(df):\n",
    "    #every day should start with hour 0; 0=10am, 1=11am, ... , 6=4pm\n",
    "    #initialize the first entry, then populate the rest\n",
    "    hour = 0\n",
    "    to_return = []\n",
    "    to_return.append(hour)\n",
    "    \n",
    "    for i in range(1,len(df)):\n",
    "        #If the date is the same as the last entry, we have the next hour\n",
    "        if df.loc[i]['Date'] == df.loc[i-1]['Date']:\n",
    "            hour+=1\n",
    "        #Otherwise, we have moved to a new day and have to update the hour back to 0\n",
    "        else:\n",
    "            hour=0\n",
    "        to_return.append(hour)\n",
    "\n",
    "    return to_return\n",
    "\n",
    "#Use the function we wrote above to update each dataframe\n",
    "msft_hourly.insert(1,'Hour',get_hours(msft_hourly))\n",
    "\n",
    "nasdaq_hourly.insert(1,'Hour',get_hours(nasdaq_hourly))"
   ]
  },
  {
   "cell_type": "markdown",
   "metadata": {},
   "source": [
    "Done with **(2)** now that we have labeled all the dataframes. Now, let's generate the deltas (changes in price) so that we can analyze them later.\n",
    "\n",
    "*** \n",
    "\n",
    "To do **(3) Generate Deltas to compare** we need to go through each dataframe and calculate each percent change since the last measurement. The dataframes will also have another column, delta since open so we can see if a single time period is the best overall."
   ]
  },
  {
   "cell_type": "code",
   "execution_count": 12,
   "metadata": {},
   "outputs": [],
   "source": [
    "#Update monthly dataframes\n",
    "\n",
    "#Calculate percent change since last measured\n",
    "deltas = [(msft_monthly.loc[0]['Close'] - msft_monthly.loc[0]['Open']) / msft_monthly.loc[0]['Open'] * 100]\n",
    "#Calculate percent change since open\n",
    "deltas_open = [(msft_monthly.loc[0]['Close'] - msft_monthly.loc[0]['Open']) / msft_monthly.loc[0]['Open'] * 100]\n",
    "for i in range(1,len(msft_monthly)):\n",
    "    deltas.append((msft_monthly.loc[i]['Close'] - msft_monthly.loc[i-1]['Close']) / msft_monthly.loc[i-1]['Close'] * 100)\n",
    "    deltas_open.append((msft_monthly.loc[i]['Close'] - msft_monthly.loc[i-(msft_monthly.loc[i]['Month']-1)]['Open']) / msft_monthly.loc[i-1]['Close'] * 100)\n",
    "\n",
    "msft_monthly.insert(1,'Pct_change', deltas)\n",
    "msft_monthly.insert(1,'Pct_change_since_open', deltas_open)\n",
    "\n",
    "\n",
    "deltas = [(nasdaq_monthly.loc[0]['Close'] - nasdaq_monthly.loc[0]['Open']) / nasdaq_monthly.loc[0]['Open'] * 100]\n",
    "deltas_open = [(nasdaq_monthly.loc[0]['Close'] - nasdaq_monthly.loc[0]['Open']) / nasdaq_monthly.loc[0]['Open'] * 100]\n",
    "for i in range(1,len(nasdaq_monthly)):\n",
    "    deltas.append((nasdaq_monthly.loc[i]['Close'] - nasdaq_monthly.loc[i-1]['Close']) / nasdaq_monthly.loc[i-1]['Close'] * 100)\n",
    "    deltas_open.append((nasdaq_monthly.loc[i]['Close'] - nasdaq_monthly.loc[i-(nasdaq_monthly.loc[i]['Month']-1)]['Open']) / nasdaq_monthly.loc[i-1]['Close'] * 100)\n",
    "\n",
    "nasdaq_monthly.insert(1,'Pct_change', deltas)\n",
    "nasdaq_monthly.insert(1,'Pct_change_since_open', deltas_open)"
   ]
  },
  {
   "cell_type": "code",
   "execution_count": 13,
   "metadata": {},
   "outputs": [],
   "source": [
    "#Update daily dataframes\n",
    "deltas = [(msft_daily.loc[0]['Close'] - msft_daily.loc[0]['Open']) / msft_daily.loc[0]['Open'] * 100]\n",
    "deltas_open = [(msft_daily.loc[0]['Close'] - msft_daily.loc[0]['Open']) / msft_daily.loc[0]['Open'] * 100]\n",
    "for i in range(1,len(msft_daily)):\n",
    "    deltas.append((msft_daily.loc[i]['Close'] - msft_daily.loc[i-1]['Close']) / msft_daily.loc[i-1]['Close'] * 100)\n",
    "    deltas_open.append((msft_daily.loc[i]['Close'] - msft_daily.loc[i-(msft_daily.loc[i]['Weekday'])]['Open']) / msft_daily.loc[i-1]['Close'] * 100)\n",
    "\n",
    "msft_daily.insert(1,'Pct_change', deltas)\n",
    "msft_daily.insert(1,'Pct_change_since_open', deltas_open)\n",
    "\n",
    "\n",
    "deltas = [(nasdaq_daily.loc[0]['Close'] - nasdaq_daily.loc[0]['Open']) / nasdaq_daily.loc[0]['Open'] * 100]\n",
    "deltas_open = [(nasdaq_daily.loc[0]['Close'] - nasdaq_daily.loc[0]['Open']) / nasdaq_daily.loc[0]['Open'] * 100]\n",
    "for i in range(1,len(nasdaq_daily)):\n",
    "    deltas.append((nasdaq_daily.loc[i]['Close'] - nasdaq_daily.loc[i-1]['Close']) / nasdaq_daily.loc[i-1]['Close'] * 100)\n",
    "    deltas_open.append((nasdaq_daily.loc[i]['Close'] - nasdaq_daily.loc[i-(nasdaq_daily.loc[i]['Weekday'])]['Open']) / nasdaq_daily.loc[i-1]['Close'] * 100)\n",
    "\n",
    "nasdaq_daily.insert(1,'Pct_change', deltas)\n",
    "nasdaq_daily.insert(1,'Pct_change_since_open', deltas_open)"
   ]
  },
  {
   "cell_type": "code",
   "execution_count": 14,
   "metadata": {},
   "outputs": [],
   "source": [
    "#Update hourly dataframes\n",
    "deltas = [(msft_hourly.loc[0]['Close'] - msft_hourly.loc[0]['Open']) / msft_hourly.loc[0]['Open'] * 100]\n",
    "deltas_open = [(msft_hourly.loc[0]['Close'] - msft_hourly.loc[0]['Open']) / msft_hourly.loc[0]['Open'] * 100]\n",
    "for i in range(1,len(msft_hourly)):\n",
    "    deltas.append((msft_hourly.loc[i]['Close'] - msft_hourly.loc[i-1]['Close']) / msft_hourly.loc[i-1]['Close'] * 100)\n",
    "    deltas_open.append((msft_hourly.loc[i]['Close'] - msft_hourly.loc[i-(msft_hourly.loc[i]['Hour'])]['Open']) / msft_hourly.loc[i-1]['Close'] * 100)\n",
    "\n",
    "msft_hourly.insert(1,'Pct_change', deltas)\n",
    "msft_hourly.insert(1,'Pct_change_since_open', deltas_open)\n",
    "\n",
    "\n",
    "deltas = [(nasdaq_hourly.loc[0]['Close'] - nasdaq_hourly.loc[0]['Open']) / nasdaq_hourly.loc[0]['Open'] * 100]\n",
    "deltas_open = [(nasdaq_hourly.loc[0]['Close'] - nasdaq_hourly.loc[0]['Open']) / nasdaq_hourly.loc[0]['Open'] * 100]\n",
    "for i in range(1,len(nasdaq_hourly)):\n",
    "    deltas.append((nasdaq_hourly.loc[i]['Close'] - nasdaq_hourly.loc[i-1]['Close']) / nasdaq_hourly.loc[i-1]['Close'] * 100)\n",
    "    deltas_open.append((nasdaq_hourly.loc[i]['Close'] - nasdaq_hourly.loc[i-(nasdaq_hourly.loc[i]['Hour'])]['Open']) / nasdaq_hourly.loc[i-1]['Close'] * 100)\n",
    "\n",
    "nasdaq_hourly.insert(1,'Pct_change', deltas)\n",
    "nasdaq_hourly.insert(1,'Pct_change_since_open', deltas_open)"
   ]
  },
  {
   "cell_type": "markdown",
   "metadata": {},
   "source": [
    "Now we can move on to **(4)**. Let's use SQL queries to get tables with the data averaged across each grouping. There will be 12 groupings for monthly tables, 5 for daily, and 7 for hourly."
   ]
  },
  {
   "cell_type": "code",
   "execution_count": 15,
   "metadata": {},
   "outputs": [],
   "source": [
    "#This uses a SQL query to aggregate the data from our dataframes. Essentially, we select the columns we want to keep,\n",
    "# and rename them using the AS keyword. AVG() is a function that returns the average for a column, grouped by the classifier\n",
    "# specified at the end of the query in the GROUP BY clause. \n",
    "# In this case, we are getting each month's average of the columns specified, from the dataframe listed after 'FROM'.\n",
    "nasdaq_monthly_avg = ps.sqldf(\"\"\"SELECT Month,\n",
    "                                        AVG(Pct_change_since_open) AS avg_change_open,\n",
    "                                        AVG(Pct_change) AS avg_change,\n",
    "                                        AVG(Volume) AS avg_volume,\n",
    "                                        AVG(Close) AS avg_close\n",
    "                                 FROM nasdaq_monthly\n",
    "                                 GROUP BY Month\n",
    "                                 \"\"\")\n",
    "\n",
    "#Repeat the SQL queries to create all the aggregate dataframes with averaged values\n",
    "msft_monthly_avg = ps.sqldf(\"\"\"SELECT Month,\n",
    "                                        AVG(Pct_change_since_open) AS avg_change_open,\n",
    "                                        AVG(Pct_change) AS avg_change,\n",
    "                                        AVG(Volume) AS avg_volume,\n",
    "                                        AVG(Close) AS avg_close\n",
    "                                 FROM msft_monthly\n",
    "                                 GROUP BY Month\n",
    "                                 \"\"\")\n",
    "\n",
    "nasdaq_daily_avg = ps.sqldf(\"\"\"SELECT Weekday,\n",
    "                                        AVG(Pct_change_since_open) AS avg_change_open,\n",
    "                                        AVG(Pct_change) AS avg_change,\n",
    "                                        AVG(Volume) AS avg_volume,\n",
    "                                        AVG(Close) AS avg_close\n",
    "                                 FROM nasdaq_daily\n",
    "                                 GROUP BY Weekday\n",
    "                                 \"\"\")\n",
    "\n",
    "msft_daily_avg = ps.sqldf(\"\"\"SELECT Weekday,\n",
    "                                        AVG(Pct_change_since_open) AS avg_change_open,\n",
    "                                        AVG(Pct_change) AS avg_change,\n",
    "                                        AVG(Volume) AS avg_volume,\n",
    "                                        AVG(Close) AS avg_close\n",
    "                                 FROM msft_daily\n",
    "                                 GROUP BY Weekday\n",
    "                                 \"\"\")\n",
    "\n",
    "nasdaq_hourly_avg = ps.sqldf(\"\"\"SELECT Hour,\n",
    "                                        AVG(Pct_change_since_open) AS avg_change_open,\n",
    "                                        AVG(Pct_change) AS avg_change,\n",
    "                                        AVG(Volume) AS avg_volume,\n",
    "                                        AVG(Close) AS avg_close\n",
    "                                 FROM nasdaq_hourly\n",
    "                                 GROUP BY Hour\n",
    "                                 \"\"\")\n",
    "\n",
    "msft_hourly_avg = ps.sqldf(\"\"\"SELECT Hour,\n",
    "                                        AVG(Pct_change_since_open) AS avg_change_open,\n",
    "                                        AVG(Pct_change) AS avg_change,\n",
    "                                        AVG(Volume) AS avg_volume,\n",
    "                                        AVG(Close) AS avg_close\n",
    "                                 FROM msft_hourly\n",
    "                                 GROUP BY Hour\n",
    "                                 \"\"\")"
   ]
  },
  {
   "cell_type": "markdown",
   "metadata": {},
   "source": [
    "## Visualization"
   ]
  },
  {
   "cell_type": "markdown",
   "metadata": {},
   "source": [
    "Great! Now we have both the raw data and the aggregated averages, which are grouped by time period. Now we can start plotting the data to visualize it and see if we notice anything. Let's look at a raw data example, showing the Percent Change since Open for each hour, to see what it looks like."
   ]
  },
  {
   "cell_type": "code",
   "execution_count": 16,
   "metadata": {},
   "outputs": [
    {
     "data": {
      "image/png": "[encoded data removed]",
      "text/plain": [
       "<Figure size 432x288 with 1 Axes>"
      ]
     },
     "metadata": {
      "needs_background": "light"
     },
     "output_type": "display_data"
    }
   ],
   "source": [
    "#Create a scatterplot, with hours on the X axis and Pct Change since Open on Y axis\n",
    "plt.scatter(nasdaq_hourly['Hour'],nasdaq_hourly['Pct_change_since_open'])\n",
    "\n",
    "#Label the graph properly\n",
    "plt.xlabel(\"Hour (0=10am, 6-4pm)\")\n",
    "plt.ylabel(\"Percentage Change since Day's Open\")\n",
    "plt.title('Percent Change since Open per Hour - NASDAQ')\n",
    "\n",
    "#Display the graph\n",
    "plt.show()"
   ]
  },
  {
   "cell_type": "markdown",
   "metadata": {},
   "source": [
    "With so many datapoints, it can be hard to interpret a graph like this. Despite this, we can see less deviation in the middle of the day, and more around the final hour. Let's take a look at graphs of the aggregated data we created, instead of the raw data to see if it helps us find any trends more easily.\n",
    "\n",
    "Let's start with volume."
   ]
  },
  {
   "cell_type": "markdown",
   "metadata": {},
   "source": [
    "### Average Volume:"
   ]
  },
  {
   "cell_type": "markdown",
   "metadata": {},
   "source": [
    "We can start with a plot of average volume per time period, to see if there is any trend."
   ]
  },
  {
   "cell_type": "code",
   "execution_count": 17,
   "metadata": {},
   "outputs": [
    {
     "data": {
      "image/png": "[encoded data removed]",
      "text/plain": [
       "<Figure size 432x288 with 1 Axes>"
      ]
     },
     "metadata": {
      "needs_background": "light"
     },
     "output_type": "display_data"
    }
   ],
   "source": [
    "months = nasdaq_monthly_avg['Month']\n",
    "y_pos = np.arange(len(months))\n",
    "volume = nasdaq_monthly_avg['avg_volume']\n",
    "\n",
    "plt.bar(y_pos, volume, align='center', alpha=0.5)\n",
    "plt.xticks(y_pos, months)\n",
    "plt.ylabel('Volume')\n",
    "plt.title('Average Volume by Month - NASDAQ')\n",
    "\n",
    "plt.show()"
   ]
  },
  {
   "cell_type": "code",
   "execution_count": 18,
   "metadata": {},
   "outputs": [
    {
     "data": {
      "image/png": "[encoded data removed]",
      "text/plain": [
       "<Figure size 432x288 with 1 Axes>"
      ]
     },
     "metadata": {
      "needs_background": "light"
     },
     "output_type": "display_data"
    }
   ],
   "source": [
    "months = msft_monthly_avg['Month']\n",
    "y_pos = np.arange(len(months))\n",
    "volume = msft_monthly_avg['avg_volume']\n",
    "\n",
    "plt.bar(y_pos, volume, align='center', alpha=0.5)\n",
    "plt.xticks(y_pos, months)\n",
    "plt.ylabel('Volume')\n",
    "plt.title('Average Volume by Month - MSFT')\n",
    "\n",
    "plt.show()"
   ]
  },
  {
   "cell_type": "code",
   "execution_count": 19,
   "metadata": {},
   "outputs": [
    {
     "data": {
      "image/png": "[encoded data removed]",
      "text/plain": [
       "<Figure size 432x288 with 1 Axes>"
      ]
     },
     "metadata": {
      "needs_background": "light"
     },
     "output_type": "display_data"
    }
   ],
   "source": [
    "days = nasdaq_daily_avg['Weekday']\n",
    "y_pos = np.arange(len(days))\n",
    "volume = nasdaq_daily_avg['avg_volume']\n",
    "\n",
    "plt.bar(y_pos, volume, align='center', alpha=0.5)\n",
    "plt.xticks(y_pos, days)\n",
    "plt.ylabel('Volume')\n",
    "plt.title('Average Volume by Weekday - NASDAQ')\n",
    "\n",
    "plt.show()"
   ]
  },
  {
   "cell_type": "code",
   "execution_count": 20,
   "metadata": {},
   "outputs": [
    {
     "data": {
      "image/png": "[encoded data removed]",
      "text/plain": [
       "<Figure size 432x288 with 1 Axes>"
      ]
     },
     "metadata": {
      "needs_background": "light"
     },
     "output_type": "display_data"
    }
   ],
   "source": [
    "days = msft_daily_avg['Weekday']\n",
    "y_pos = np.arange(len(days))\n",
    "volume = msft_daily_avg['avg_volume']\n",
    "\n",
    "plt.bar(y_pos, volume, align='center', alpha=0.5)\n",
    "plt.xticks(y_pos, days)\n",
    "plt.ylabel('Volume')\n",
    "plt.title('Average Volume by Weekday - MSFT')\n",
    "\n",
    "plt.show()"
   ]
  },
  {
   "cell_type": "code",
   "execution_count": 21,
   "metadata": {},
   "outputs": [
    {
     "data": {
      "image/png": "[encoded data removed]",
      "text/plain": [
       "<Figure size 432x288 with 1 Axes>"
      ]
     },
     "metadata": {
      "needs_background": "light"
     },
     "output_type": "display_data"
    }
   ],
   "source": [
    "hours = nasdaq_hourly_avg['Hour']\n",
    "y_pos = np.arange(len(hours))\n",
    "volume = nasdaq_hourly_avg['avg_volume']\n",
    "\n",
    "plt.bar(y_pos, volume, align='center', alpha=0.5)\n",
    "plt.xticks(y_pos, hours)\n",
    "plt.ylabel('Volume')\n",
    "plt.xlabel('Hours (0=10am, 6=4pm)')\n",
    "plt.title('Average Volume by Hour - NASDAQ')\n",
    "\n",
    "plt.show()"
   ]
  },
  {
   "cell_type": "code",
   "execution_count": 22,
   "metadata": {},
   "outputs": [
    {
     "data": {
      "image/png": "[encoded data removed]",
      "text/plain": [
       "<Figure size 432x288 with 1 Axes>"
      ]
     },
     "metadata": {
      "needs_background": "light"
     },
     "output_type": "display_data"
    }
   ],
   "source": [
    "hours = msft_hourly_avg['Hour']\n",
    "y_pos = np.arange(len(hours))\n",
    "volume = msft_hourly_avg['avg_volume']\n",
    "\n",
    "plt.bar(y_pos, volume, align='center', alpha=0.5)\n",
    "plt.xticks(y_pos, hours)\n",
    "plt.ylabel('Volume')\n",
    "plt.xlabel('Hours (0=10am, 6=4pm)')\n",
    "plt.title('Average Volume by Hour - MSFT')\n",
    "\n",
    "plt.show()"
   ]
  },
  {
   "cell_type": "markdown",
   "metadata": {},
   "source": [
    "Cool. There are definitely trends we can start to notice! Let's move on to the next set of visualizations."
   ]
  },
  {
   "cell_type": "markdown",
   "metadata": {},
   "source": [
    "### Average Percent Change Since Last Close"
   ]
  },
  {
   "cell_type": "markdown",
   "metadata": {},
   "source": [
    "This will show us how much the market(NASDAQ) and Microsoft stock moved since they were last measured, on a month, day, and hourly basis."
   ]
  },
  {
   "cell_type": "code",
   "execution_count": 23,
   "metadata": {},
   "outputs": [
    {
     "data": {
      "image/png": "[encoded data removed]",
      "text/plain": [
       "<Figure size 432x288 with 1 Axes>"
      ]
     },
     "metadata": {
      "needs_background": "light"
     },
     "output_type": "display_data"
    }
   ],
   "source": [
    "plt.scatter(nasdaq_monthly_avg['Month'],nasdaq_monthly_avg['avg_change'])\n",
    "plt.xlabel(\"Month\")\n",
    "plt.ylabel(\"Percentage Change since Last Month\")\n",
    "plt.title('Avg Percent Change by Month since Last Close- NASDAQ')\n",
    "plt.xticks(nasdaq_monthly_avg['Month'], nasdaq_monthly_avg['Month'])\n",
    "plt.show()"
   ]
  },
  {
   "cell_type": "code",
   "execution_count": 24,
   "metadata": {},
   "outputs": [
    {
     "data": {
      "image/png": "[encoded data removed]",
      "text/plain": [
       "<Figure size 432x288 with 1 Axes>"
      ]
     },
     "metadata": {
      "needs_background": "light"
     },
     "output_type": "display_data"
    }
   ],
   "source": [
    "plt.scatter(msft_monthly_avg['Month'],msft_monthly_avg['avg_change'])\n",
    "plt.xlabel(\"Month\")\n",
    "plt.ylabel(\"Percentage Change since Last Month\")\n",
    "plt.title('Avg Percent Change by Month since Last Close- MSFT')\n",
    "plt.xticks(msft_monthly_avg['Month'], msft_monthly_avg['Month'])\n",
    "plt.show()"
   ]
  },
  {
   "cell_type": "code",
   "execution_count": 25,
   "metadata": {},
   "outputs": [
    {
     "data": {
      "image/png": "[encoded data removed]",
      "text/plain": [
       "<Figure size 432x288 with 1 Axes>"
      ]
     },
     "metadata": {
      "needs_background": "light"
     },
     "output_type": "display_data"
    }
   ],
   "source": [
    "plt.scatter(nasdaq_daily_avg['Weekday'],nasdaq_daily_avg['avg_change'])\n",
    "plt.xlabel(\"Day (0=Monday)\")\n",
    "plt.ylabel(\"Avg Percentage Change since Last Day\")\n",
    "plt.title('Percent Change by Day since Last Close- NASDAQ')\n",
    "plt.xticks(nasdaq_daily_avg['Weekday'], nasdaq_daily_avg['Weekday'])\n",
    "plt.show()"
   ]
  },
  {
   "cell_type": "code",
   "execution_count": 26,
   "metadata": {},
   "outputs": [
    {
     "data": {
      "image/png": "[encoded data removed]",
      "text/plain": [
       "<Figure size 432x288 with 1 Axes>"
      ]
     },
     "metadata": {
      "needs_background": "light"
     },
     "output_type": "display_data"
    }
   ],
   "source": [
    "plt.scatter(msft_daily_avg['Weekday'],msft_daily_avg['avg_change'])\n",
    "plt.xlabel(\"Day (0=Monday)\")\n",
    "plt.ylabel(\"Avg Percentage Change since Last Day\")\n",
    "plt.title('Percent Change by Day since Last Close- MSFT')\n",
    "plt.xticks(msft_daily_avg['Weekday'], msft_daily_avg['Weekday'])\n",
    "plt.show()"
   ]
  },
  {
   "cell_type": "code",
   "execution_count": 27,
   "metadata": {},
   "outputs": [
    {
     "data": {
      "image/png": "[encoded data removed]",
      "text/plain": [
       "<Figure size 432x288 with 1 Axes>"
      ]
     },
     "metadata": {
      "needs_background": "light"
     },
     "output_type": "display_data"
    }
   ],
   "source": [
    "plt.scatter(nasdaq_hourly_avg['Hour'],nasdaq_hourly_avg['avg_change'])\n",
    "plt.xlabel(\"Hour (0=10am)\")\n",
    "plt.ylabel(\"Avg Percentage Change since Last Hour\")\n",
    "plt.title('Percent Change by Hour since Last Close - NASDAQ')\n",
    "plt.xticks(nasdaq_hourly_avg['Hour'], nasdaq_hourly_avg['Hour'])\n",
    "plt.show()"
   ]
  },
  {
   "cell_type": "code",
   "execution_count": 28,
   "metadata": {},
   "outputs": [
    {
     "data": {
      "image/png": "[encoded data removed]",
      "text/plain": [
       "<Figure size 432x288 with 1 Axes>"
      ]
     },
     "metadata": {
      "needs_background": "light"
     },
     "output_type": "display_data"
    }
   ],
   "source": [
    "plt.scatter(msft_hourly_avg['Hour'],msft_hourly_avg['avg_change'])\n",
    "plt.xlabel(\"Hour (0=10am)\")\n",
    "plt.ylabel(\"Avg Percentage Change since Last Hour\")\n",
    "plt.title('Percent Change by Hour since Last Close - MSFT')\n",
    "plt.xticks(msft_hourly_avg['Hour'], msft_hourly_avg['Hour'])\n",
    "plt.show()"
   ]
  },
  {
   "cell_type": "markdown",
   "metadata": {},
   "source": [
    "### Average Percent Change since Open"
   ]
  },
  {
   "cell_type": "code",
   "execution_count": 29,
   "metadata": {},
   "outputs": [
    {
     "data": {
      "image/png": "[encoded data removed]",
      "text/plain": [
       "<Figure size 432x288 with 1 Axes>"
      ]
     },
     "metadata": {
      "needs_background": "light"
     },
     "output_type": "display_data"
    }
   ],
   "source": [
    "plt.scatter(nasdaq_monthly_avg['Month'],nasdaq_monthly_avg['avg_change_open'])\n",
    "plt.xlabel(\"Month\")\n",
    "plt.ylabel(\"Percentage Change since Year's Open\")\n",
    "plt.title('Avg Percent Change by Month since Open - NASDAQ')\n",
    "plt.xticks(nasdaq_monthly_avg['Month'], nasdaq_monthly_avg['Month'])\n",
    "plt.show()"
   ]
  },
  {
   "cell_type": "code",
   "execution_count": 30,
   "metadata": {},
   "outputs": [
    {
     "data": {
      "image/png": "[encoded data removed]",
      "text/plain": [
       "<Figure size 432x288 with 1 Axes>"
      ]
     },
     "metadata": {
      "needs_background": "light"
     },
     "output_type": "display_data"
    }
   ],
   "source": [
    "plt.scatter(msft_monthly_avg['Month'],msft_monthly_avg['avg_change'])\n",
    "plt.xlabel(\"Month\")\n",
    "plt.ylabel(\"Percentage Change since Year's Open\")\n",
    "plt.title('Avg Percent Change by Month since Open - MSFT')\n",
    "plt.xticks(msft_monthly_avg['Month'], msft_monthly_avg['Month'])\n",
    "plt.show()"
   ]
  },
  {
   "cell_type": "code",
   "execution_count": 31,
   "metadata": {},
   "outputs": [
    {
     "data": {
      "image/png": "[encoded data removed]",
      "text/plain": [
       "<Figure size 432x288 with 1 Axes>"
      ]
     },
     "metadata": {
      "needs_background": "light"
     },
     "output_type": "display_data"
    }
   ],
   "source": [
    "plt.scatter(nasdaq_daily_avg['Weekday'],nasdaq_daily_avg['avg_change_open'])\n",
    "plt.xlabel(\"Day (0=Monday)\")\n",
    "plt.ylabel(\"Avg Percentage Change since Week's Open\")\n",
    "plt.title('Percent Change by Day since Open - NASDAQ')\n",
    "plt.xticks(nasdaq_daily_avg['Weekday'], nasdaq_daily_avg['Weekday'])\n",
    "plt.show()"
   ]
  },
  {
   "cell_type": "code",
   "execution_count": 32,
   "metadata": {},
   "outputs": [
    {
     "data": {
      "image/png": "[encoded data removed]",
      "text/plain": [
       "<Figure size 432x288 with 1 Axes>"
      ]
     },
     "metadata": {
      "needs_background": "light"
     },
     "output_type": "display_data"
    }
   ],
   "source": [
    "plt.scatter(msft_daily_avg['Weekday'],msft_daily_avg['avg_change_open'])\n",
    "plt.xlabel(\"Day (0=Monday)\")\n",
    "plt.ylabel(\"Avg Percentage Change since Week's Open\")\n",
    "plt.title('Percent Change by Day since Open - MSFT')\n",
    "plt.xticks(msft_daily_avg['Weekday'], msft_daily_avg['Weekday'])\n",
    "plt.show()"
   ]
  },
  {
   "cell_type": "code",
   "execution_count": 33,
   "metadata": {},
   "outputs": [
    {
     "data": {
      "image/png": "[encoded data removed]",
      "text/plain": [
       "<Figure size 432x288 with 1 Axes>"
      ]
     },
     "metadata": {
      "needs_background": "light"
     },
     "output_type": "display_data"
    }
   ],
   "source": [
    "plt.scatter(nasdaq_hourly_avg['Hour'],nasdaq_hourly_avg['avg_change_open'])\n",
    "plt.xlabel(\"Hour (0=10am)\")\n",
    "plt.ylabel(\"Avg Percentage Change since Day's Open\")\n",
    "plt.title('Percent Change by Hour since Open - NASDAQ')\n",
    "plt.xticks(nasdaq_hourly_avg['Hour'], nasdaq_hourly_avg['Hour'])\n",
    "plt.show()"
   ]
  },
  {
   "cell_type": "code",
   "execution_count": 34,
   "metadata": {},
   "outputs": [
    {
     "data": {
      "image/png": "[encoded data removed]",
      "text/plain": [
       "<Figure size 432x288 with 1 Axes>"
      ]
     },
     "metadata": {
      "needs_background": "light"
     },
     "output_type": "display_data"
    }
   ],
   "source": [
    "plt.scatter(msft_hourly_avg['Hour'],msft_hourly_avg['avg_change_open'])\n",
    "plt.xlabel(\"Hour (0=10am)\")\n",
    "plt.ylabel(\"Avg Percentage Change since Day's Open\")\n",
    "plt.title('Percent Change by Hour since Open - MSFT')\n",
    "plt.xticks(msft_hourly_avg['Hour'], msft_hourly_avg['Hour'])\n",
    "plt.show()"
   ]
  },
  {
   "cell_type": "markdown",
   "metadata": {},
   "source": [
    "Wow, look at the last set of graphs we made. You can see distinctive patterns almost immediately. Now that we have these graphs made, let's analyze our data and visualizations and see if we can come to any conclusions. Without any analysis, all we've done is combine data into some tables and make pretty graphs. Analysis is what can give our work some meaning."
   ]
  },
  {
   "cell_type": "markdown",
   "metadata": {},
   "source": [
    "## Analysis"
   ]
  },
  {
   "cell_type": "markdown",
   "metadata": {},
   "source": [
    "Because we are dealing with multiple classes, we shouldn't rely on something like a basic linear regression. Instead, we have to do machine learning on a dataset that we treat as a multi-class classification.\n",
    "\n",
    "Because this is only a tutorial, we will do an analysis of only the last sets of data, Percentage Change since Open. You can expand this to the rest if you would like, but take this as a proof of concept.\n",
    "\n",
    "We will use the sklearn library to apply Machine Learning to the dataset and will use the neural network approach. To learn more about it, visit [this page](https://scikit-learn.org/stable/modules/neural_networks_supervised.html).\n",
    "\n",
    "To learn about different methods allowed by sklearn, go [here instead](https://scikit-learn.org/stable/supervised_learning.html).\n",
    "\n",
    "Let's begin by first generating the tables we will use."
   ]
  },
  {
   "cell_type": "code",
   "execution_count": 35,
   "metadata": {},
   "outputs": [
    {
     "data": {
      "text/html": [
       "<div>\n",
       "<style scoped>\n",
       "    .dataframe tbody tr th:only-of-type {\n",
       "        vertical-align: middle;\n",
       "    }\n",
       "\n",
       "    .dataframe tbody tr th {\n",
       "        vertical-align: top;\n",
       "    }\n",
       "\n",
       "    .dataframe thead th {\n",
       "        text-align: right;\n",
       "    }\n",
       "</style>\n",
       "<table border=\"1\" class=\"dataframe\">\n",
       "  <thead>\n",
       "    <tr style=\"text-align: right;\">\n",
       "      <th></th>\n",
       "      <th>1</th>\n",
       "      <th>2</th>\n",
       "      <th>3</th>\n",
       "      <th>4</th>\n",
       "      <th>5</th>\n",
       "      <th>6</th>\n",
       "      <th>7</th>\n",
       "      <th>8</th>\n",
       "      <th>9</th>\n",
       "      <th>10</th>\n",
       "      <th>11</th>\n",
       "      <th>12</th>\n",
       "    </tr>\n",
       "  </thead>\n",
       "  <tbody>\n",
       "    <tr>\n",
       "      <th>0</th>\n",
       "      <td>0.875355</td>\n",
       "      <td>3.911740</td>\n",
       "      <td>3.753057</td>\n",
       "      <td>7.079654</td>\n",
       "      <td>5.521070</td>\n",
       "      <td>3.416574</td>\n",
       "      <td>2.874686</td>\n",
       "      <td>-3.526000</td>\n",
       "      <td>-10.128089</td>\n",
       "      <td>0.321272</td>\n",
       "      <td>-2.097661</td>\n",
       "      <td>-2.728653</td>\n",
       "    </tr>\n",
       "    <tr>\n",
       "      <th>1</th>\n",
       "      <td>6.005420</td>\n",
       "      <td>10.999204</td>\n",
       "      <td>14.634186</td>\n",
       "      <td>12.581640</td>\n",
       "      <td>5.578795</td>\n",
       "      <td>9.820543</td>\n",
       "      <td>9.612447</td>\n",
       "      <td>13.933229</td>\n",
       "      <td>14.960746</td>\n",
       "      <td>10.263687</td>\n",
       "      <td>11.851624</td>\n",
       "      <td>12.029610</td>\n",
       "    </tr>\n",
       "    <tr>\n",
       "      <th>2</th>\n",
       "      <td>1.682386</td>\n",
       "      <td>2.191503</td>\n",
       "      <td>5.575296</td>\n",
       "      <td>7.267284</td>\n",
       "      <td>10.952323</td>\n",
       "      <td>9.025696</td>\n",
       "      <td>15.721444</td>\n",
       "      <td>13.747633</td>\n",
       "      <td>18.946365</td>\n",
       "      <td>21.964319</td>\n",
       "      <td>24.709987</td>\n",
       "      <td>26.731261</td>\n",
       "    </tr>\n",
       "    <tr>\n",
       "      <th>3</th>\n",
       "      <td>-1.344396</td>\n",
       "      <td>3.608545</td>\n",
       "      <td>0.904349</td>\n",
       "      <td>-1.082873</td>\n",
       "      <td>2.007270</td>\n",
       "      <td>5.848989</td>\n",
       "      <td>4.757978</td>\n",
       "      <td>9.616987</td>\n",
       "      <td>7.278181</td>\n",
       "      <td>10.475619</td>\n",
       "      <td>13.639290</td>\n",
       "      <td>12.021380</td>\n",
       "    </tr>\n",
       "    <tr>\n",
       "      <th>4</th>\n",
       "      <td>-2.639330</td>\n",
       "      <td>4.385739</td>\n",
       "      <td>2.833460</td>\n",
       "      <td>3.696881</td>\n",
       "      <td>6.269242</td>\n",
       "      <td>4.469991</td>\n",
       "      <td>7.380171</td>\n",
       "      <td>1.023145</td>\n",
       "      <td>-2.910628</td>\n",
       "      <td>6.352805</td>\n",
       "      <td>6.894478</td>\n",
       "      <td>4.838244</td>\n",
       "    </tr>\n",
       "    <tr>\n",
       "      <th>5</th>\n",
       "      <td>-5.665598</td>\n",
       "      <td>-7.362449</td>\n",
       "      <td>-0.609919</td>\n",
       "      <td>-2.511166</td>\n",
       "      <td>1.055416</td>\n",
       "      <td>-1.111144</td>\n",
       "      <td>5.461450</td>\n",
       "      <td>6.113180</td>\n",
       "      <td>7.948064</td>\n",
       "      <td>5.487391</td>\n",
       "      <td>8.210036</td>\n",
       "      <td>10.272031</td>\n",
       "    </tr>\n",
       "    <tr>\n",
       "      <th>6</th>\n",
       "      <td>3.474514</td>\n",
       "      <td>7.120833</td>\n",
       "      <td>8.344779</td>\n",
       "      <td>10.521263</td>\n",
       "      <td>12.780254</td>\n",
       "      <td>11.531782</td>\n",
       "      <td>15.023402</td>\n",
       "      <td>15.800584</td>\n",
       "      <td>16.649501</td>\n",
       "      <td>20.043994</td>\n",
       "      <td>21.528257</td>\n",
       "      <td>21.498057</td>\n",
       "    </tr>\n",
       "    <tr>\n",
       "      <th>7</th>\n",
       "      <td>6.863730</td>\n",
       "      <td>4.524870</td>\n",
       "      <td>1.729687</td>\n",
       "      <td>1.820925</td>\n",
       "      <td>7.139130</td>\n",
       "      <td>7.694715</td>\n",
       "      <td>9.775111</td>\n",
       "      <td>15.275316</td>\n",
       "      <td>13.671555</td>\n",
       "      <td>4.576609</td>\n",
       "      <td>5.377710</td>\n",
       "      <td>-4.124800</td>\n",
       "    </tr>\n",
       "    <tr>\n",
       "      <th>8</th>\n",
       "      <td>11.677429</td>\n",
       "      <td>14.084815</td>\n",
       "      <td>16.228408</td>\n",
       "      <td>20.551355</td>\n",
       "      <td>11.688624</td>\n",
       "      <td>20.116730</td>\n",
       "      <td>20.840116</td>\n",
       "      <td>17.809112</td>\n",
       "      <td>18.742336</td>\n",
       "      <td>22.319969</td>\n",
       "      <td>26.030701</td>\n",
       "      <td>28.454193</td>\n",
       "    </tr>\n",
       "    <tr>\n",
       "      <th>9</th>\n",
       "      <td>1.242455</td>\n",
       "      <td>-5.158922</td>\n",
       "      <td>-15.633267</td>\n",
       "      <td>-1.946860</td>\n",
       "      <td>5.066738</td>\n",
       "      <td>10.741028</td>\n",
       "      <td>16.958432</td>\n",
       "      <td>25.462367</td>\n",
       "      <td>18.071904</td>\n",
       "      <td>16.764077</td>\n",
       "      <td>28.953437</td>\n",
       "      <td>30.463635</td>\n",
       "    </tr>\n",
       "  </tbody>\n",
       "</table>\n",
       "</div>"
      ],
      "text/plain": [
       "          1          2          3          4          5          6   \\\n",
       "0   0.875355   3.911740   3.753057   7.079654   5.521070   3.416574   \n",
       "1   6.005420  10.999204  14.634186  12.581640   5.578795   9.820543   \n",
       "2   1.682386   2.191503   5.575296   7.267284  10.952323   9.025696   \n",
       "3  -1.344396   3.608545   0.904349  -1.082873   2.007270   5.848989   \n",
       "4  -2.639330   4.385739   2.833460   3.696881   6.269242   4.469991   \n",
       "5  -5.665598  -7.362449  -0.609919  -2.511166   1.055416  -1.111144   \n",
       "6   3.474514   7.120833   8.344779  10.521263  12.780254  11.531782   \n",
       "7   6.863730   4.524870   1.729687   1.820925   7.139130   7.694715   \n",
       "8  11.677429  14.084815  16.228408  20.551355  11.688624  20.116730   \n",
       "9   1.242455  -5.158922 -15.633267  -1.946860   5.066738  10.741028   \n",
       "\n",
       "          7          8          9          10         11         12  \n",
       "0   2.874686  -3.526000 -10.128089   0.321272  -2.097661  -2.728653  \n",
       "1   9.612447  13.933229  14.960746  10.263687  11.851624  12.029610  \n",
       "2  15.721444  13.747633  18.946365  21.964319  24.709987  26.731261  \n",
       "3   4.757978   9.616987   7.278181  10.475619  13.639290  12.021380  \n",
       "4   7.380171   1.023145  -2.910628   6.352805   6.894478   4.838244  \n",
       "5   5.461450   6.113180   7.948064   5.487391   8.210036  10.272031  \n",
       "6  15.023402  15.800584  16.649501  20.043994  21.528257  21.498057  \n",
       "7   9.775111  15.275316  13.671555   4.576609   5.377710  -4.124800  \n",
       "8  20.840116  17.809112  18.742336  22.319969  26.030701  28.454193  \n",
       "9  16.958432  25.462367  18.071904  16.764077  28.953437  30.463635  "
      ]
     },
     "execution_count": 35,
     "metadata": {},
     "output_type": "execute_result"
    }
   ],
   "source": [
    "#We need to classify data, which means separate it out by each different \"class\"\n",
    "# In this case, each class is a month\n",
    "nasdaq_monthly_class = pd.DataFrame()\n",
    "for i in range(1,13):\n",
    "    #Use a SQL query to get each Month (WHERE Month = '{}'). \n",
    "    #The .format will insert the variable, i, into the {} in the query string\n",
    "    to_add = ps.sqldf(\"\"\"SELECT Pct_change_since_open AS change_open \n",
    "                         FROM nasdaq_monthly \n",
    "                         WHERE Month = '{}' \"\"\".format(i))['change_open']\n",
    "    nasdaq_monthly_class.insert(len(nasdaq_monthly_class.columns),i,to_add)\n",
    "\n",
    "#Print the new dataframe to see what it looks like\n",
    "nasdaq_monthly_class"
   ]
  },
  {
   "cell_type": "code",
   "execution_count": 36,
   "metadata": {},
   "outputs": [],
   "source": [
    "#Repeat process above for each dataframe\n",
    "msft_monthly_class = pd.DataFrame()\n",
    "for i in range(1,13):\n",
    "    to_add = ps.sqldf(\"\"\"SELECT Pct_change_since_open AS change_open \n",
    "                         FROM msft_monthly \n",
    "                         WHERE Month = '{}' \"\"\".format(i))['change_open']\n",
    "    msft_monthly_class.insert(len(msft_monthly_class.columns),i,to_add)"
   ]
  },
  {
   "cell_type": "code",
   "execution_count": 37,
   "metadata": {},
   "outputs": [],
   "source": [
    "nasdaq_daily_class = pd.DataFrame()\n",
    "for i in range(0,5):\n",
    "    to_add = ps.sqldf(\"\"\"SELECT Pct_change_since_open AS change_open \n",
    "                         FROM nasdaq_daily \n",
    "                         WHERE Weekday = '{}' \"\"\".format(i))['change_open']\n",
    "    nasdaq_daily_class.insert(len(nasdaq_daily_class.columns),i,to_add)"
   ]
  },
  {
   "cell_type": "code",
   "execution_count": 38,
   "metadata": {},
   "outputs": [],
   "source": [
    "msft_daily_class = pd.DataFrame()\n",
    "for i in range(0,5):\n",
    "    to_add = ps.sqldf(\"\"\"SELECT Pct_change_since_open AS change_open \n",
    "                         FROM msft_daily \n",
    "                         WHERE Weekday = '{}' \"\"\".format(i))['change_open']\n",
    "    msft_daily_class.insert(len(msft_daily_class.columns),i,to_add)"
   ]
  },
  {
   "cell_type": "code",
   "execution_count": 39,
   "metadata": {},
   "outputs": [],
   "source": [
    "nasdaq_hourly_class = pd.DataFrame()\n",
    "for i in range(0,7):\n",
    "    to_add = ps.sqldf(\"\"\"SELECT Pct_change_since_open AS change_open \n",
    "                         FROM nasdaq_hourly \n",
    "                         WHERE Hour = '{}' \"\"\".format(i))['change_open']\n",
    "    nasdaq_hourly_class.insert(len(nasdaq_hourly_class.columns),i,to_add)"
   ]
  },
  {
   "cell_type": "code",
   "execution_count": 40,
   "metadata": {},
   "outputs": [],
   "source": [
    "msft_hourly_class = pd.DataFrame()\n",
    "for i in range(0,7):\n",
    "    to_add = ps.sqldf(\"\"\"SELECT Pct_change_since_open AS change_open \n",
    "                         FROM msft_hourly \n",
    "                         WHERE Hour = '{}' \"\"\".format(i))['change_open']\n",
    "    msft_hourly_class.insert(len(msft_hourly_class.columns),i,to_add)"
   ]
  },
  {
   "cell_type": "markdown",
   "metadata": {},
   "source": [
    "Now that we have all the classified tables, we can apply neural network machine learning using sklearn."
   ]
  },
  {
   "cell_type": "code",
   "execution_count": 41,
   "metadata": {},
   "outputs": [
    {
     "data": {
      "text/plain": [
       "1.0"
      ]
     },
     "execution_count": 41,
     "metadata": {},
     "output_type": "execute_result"
    }
   ],
   "source": [
    "#Set the training dataframe to be the transpose of the dataframe, with all Null values dropped\n",
    "df=nasdaq_hourly_class.dropna().transpose()\n",
    "#Represents the y values for training the machine learning model\n",
    "y_tr = df.iloc[:,0]\n",
    "#Convert the array to a list of integers that is usable\n",
    "y_tr=y_tr.astype('int')\n",
    "#Get the X training dataset\n",
    "X_tr = df.iloc[:,1:300]\n",
    "\n",
    "#Get the y testing dataset (let's see if our model can match the predicitons)\n",
    "y_test = df.iloc[:,0]\n",
    "y_test=y_test.astype('int')\n",
    "#Get new data for testing\n",
    "X_test = df.iloc[:,301:600]\n",
    "\n",
    "#Use SKlearn's neural network algorith. Train the dataset using the training datasets we made above.\n",
    "NN = MLPClassifier(solver='lbfgs', alpha=1e-2, hidden_layer_sizes=(150, 10), random_state=1).fit(X_tr, y_tr)\n",
    "#Use our trained model to make a prediciton\n",
    "NN.predict(X_test)\n",
    "#Score the prediction versus the test data\n",
    "round(NN.score(X_test, y_test), 4)"
   ]
  },
  {
   "cell_type": "code",
   "execution_count": 42,
   "metadata": {},
   "outputs": [
    {
     "data": {
      "text/plain": [
       "0.5714"
      ]
     },
     "execution_count": 42,
     "metadata": {},
     "output_type": "execute_result"
    }
   ],
   "source": [
    "#Same process as above, on different datasets\n",
    "df=msft_hourly_class.dropna().transpose()\n",
    "y_tr = df.iloc[:,0]\n",
    "y_tr=y_tr.astype('int')\n",
    "X_tr = df.iloc[:,1:300]\n",
    "\n",
    "y_test = df.iloc[:,0]\n",
    "y_test=y_test.astype('int')\n",
    "X_test = df.iloc[:,301:600]\n",
    "\n",
    "NN = MLPClassifier(solver='lbfgs', alpha=1e-2, hidden_layer_sizes=(150, 10), random_state=1).fit(X_tr, y_tr)\n",
    "NN.predict(X_test)\n",
    "round(NN.score(X_test, y_test), 4)"
   ]
  },
  {
   "cell_type": "code",
   "execution_count": 43,
   "metadata": {},
   "outputs": [
    {
     "data": {
      "text/plain": [
       "1.0"
      ]
     },
     "execution_count": 43,
     "metadata": {},
     "output_type": "execute_result"
    }
   ],
   "source": [
    "df=nasdaq_daily_class.dropna().transpose()\n",
    "y_tr = df.iloc[:,0]\n",
    "y_tr=y_tr.astype('int')\n",
    "#Make sure to updatethese values so you don't go out of bounds!!\n",
    "X_tr = df.iloc[:,1:200]\n",
    "\n",
    "y_test = df.iloc[:,0]\n",
    "y_test=y_test.astype('int')\n",
    "X_test = df.iloc[:,201:400]\n",
    "\n",
    "NN = MLPClassifier(solver='lbfgs', alpha=1e-2, hidden_layer_sizes=(150, 10), random_state=1).fit(X_tr, y_tr)\n",
    "NN.predict(X_test)\n",
    "round(NN.score(X_test, y_test), 4)"
   ]
  },
  {
   "cell_type": "code",
   "execution_count": 44,
   "metadata": {},
   "outputs": [
    {
     "data": {
      "text/plain": [
       "0.8"
      ]
     },
     "execution_count": 44,
     "metadata": {},
     "output_type": "execute_result"
    }
   ],
   "source": [
    "df=msft_daily_class.dropna().transpose()\n",
    "y_tr = df.iloc[:,0]\n",
    "y_tr=y_tr.astype('int')\n",
    "X_tr = df.iloc[:,1:200]\n",
    "\n",
    "y_test = df.iloc[:,0]\n",
    "y_test=y_test.astype('int')\n",
    "X_test = df.iloc[:,201:400]\n",
    "\n",
    "NN = MLPClassifier(solver='lbfgs', alpha=1e-2, hidden_layer_sizes=(150, 10), random_state=1).fit(X_tr, y_tr)\n",
    "NN.predict(X_test)\n",
    "round(NN.score(X_test, y_test), 4)"
   ]
  },
  {
   "cell_type": "code",
   "execution_count": 45,
   "metadata": {},
   "outputs": [
    {
     "data": {
      "text/plain": [
       "0.0833"
      ]
     },
     "execution_count": 45,
     "metadata": {},
     "output_type": "execute_result"
    }
   ],
   "source": [
    "df=nasdaq_monthly_class.dropna().transpose()\n",
    "y_tr = df.iloc[:,0]\n",
    "y_tr=y_tr.astype('int')\n",
    "X_tr = df.iloc[:,1:5]\n",
    "\n",
    "y_test = df.iloc[:,0]\n",
    "y_test=y_test.astype('int')\n",
    "X_test = df.iloc[:,5:9]\n",
    "\n",
    "NN = MLPClassifier(solver='lbfgs', alpha=1e-5, hidden_layer_sizes=(150, 10), random_state=1).fit(X_tr, y_tr)\n",
    "NN.predict(X_test)\n",
    "round(NN.score(X_test, y_test), 4)"
   ]
  },
  {
   "cell_type": "code",
   "execution_count": 46,
   "metadata": {},
   "outputs": [
    {
     "data": {
      "text/plain": [
       "0.1667"
      ]
     },
     "execution_count": 46,
     "metadata": {},
     "output_type": "execute_result"
    }
   ],
   "source": [
    "df=msft_monthly_class.dropna().transpose()\n",
    "y_tr = df.iloc[:,0]\n",
    "y_tr=y_tr.astype('int')\n",
    "X_tr = df.iloc[:,1:5]\n",
    "\n",
    "y_test = df.iloc[:,0]\n",
    "y_test=y_test.astype('int')\n",
    "X_test = df.iloc[:,5:9]\n",
    "\n",
    "NN = MLPClassifier(solver='lbfgs', alpha=1e-5, hidden_layer_sizes=(150, 10), random_state=1).fit(X_tr, y_tr)\n",
    "NN.predict(X_test)\n",
    "round(NN.score(X_test, y_test), 4)"
   ]
  },
  {
   "cell_type": "markdown",
   "metadata": {},
   "source": [
    "Looking at the results from the neural network machine learning, we can see that the NASDAQ hourly and NASDAQ daily had very high results at 1.0, followed by MSFT daily and MSFT hourly. Monthly results were much worse in terms of predictions, but there was also much less data. In 10 years of data each month was only accounted for 10 times, and if each classification only has a sample size of 10, it makes sense that the prediciton results would be poor from a machine learning algorithm, since these algorithms need much larger sample sizes to be effective.\n",
    "\n",
    "***\n",
    "\n",
    "Nevertheless, we can see that clearly there are trends based on time periods. Looking at the machine learning results, we see high prediction rates (1.0,1.0,0.8,0.57) for hourly and daily Percent Change since Open, meaning that there are verifiable trends.\n",
    "\n",
    "This is confirmed by looking at the graphs we plotted above in the Visualization section.\n",
    "\n",
    "Therefore, it does seem like there is a correlation between time periods and stock price movement.\n",
    "\n",
    "Let's explore this further and come to some conclusions that can help you invest!"
   ]
  },
  {
   "cell_type": "markdown",
   "metadata": {},
   "source": [
    "## Conclusions"
   ]
  },
  {
   "cell_type": "markdown",
   "metadata": {},
   "source": [
    "First and foremost: A Disclaimer. Past results are not necessarily indicative of future performance. Moreover, we are not financial advisors, and we cannot legally give you investment advice. However, we can discuss our conclusions from this tutorial, and you can take from it whatever you wish. Ultimately, your financial decisions are yours and we cannot be held responsible for whatever you decide to do. :)\n",
    "\n",
    "Looking at the graphs for yearly opens (the graphs that are classified by month), we see that there really doesn't seem to be any trend for MSFT, however, it looks like each month gets better for the market based on past 10 year data, with December peaking. Based on this information, a good strategy seems like holding NASDAQ month over month over the course of a year.\n",
    "\n",
    "Looking at the graphs that are classified by day, both MSFT and the market seem to increase day by day, with the end of the week being the best. This suggests again that a holding strategy across days in each weak would be a good strategy. The biggest jump looks to be between Monday and Tuesday for the NASDAQ, so perhaps an optimized strategy would have been to buy a leveraged NASDAQ fund on Monday and make use of the extra large jump on Tuesday before re-balancing your portfolio for the rest of the week.\n",
    "\n",
    "Looking at intra-day charts, classified hourly, we see perhaps the most actionable trends. While the other graphs show consistent growth, suggesting a buy-and-hold strategy to be optimal, these intraday charts show declines that we can profit from. Looking at the NASDAQ chart, we can see a large jump at the beginning of the day, with a decline hour-over-hour. This suggets that a profitable strategy would be to buy at the end of the day, hold overnight, and sell the next day during the early hours. Alternatively, you could start the day by shorting, and cover your short at the end of the day, and make a daily profit on average, according to the data. Moving to MSFT's intraday chart, we can see a clear dip midday. This suggests that buying every day around 1pm or 2pm in the afternoon, and then selling either at the end of the day as the stock surges back, or the next morning would be profitable on average. Moreover, if you were to short the stock, a winning strategy on average would be to short at the begining of the day when the stock is highest, then cover your short during the afternoon dip at 1-2pm.\n",
    "\n",
    "While we cannot guarentee these strategies to have worked every single day or week, but on average it seems that they would have been profitable strategies that beat the market or the stock's individual performance. The machine learning predictions were high enough to suggest a fairly predictable trend that would have worked more often than not. \n",
    "\n",
    "***\n",
    "\n",
    "We hope you enjoyed this tutorial, and that you learned something from it! We hope that you would use this to coninue to explore the stock market, various trends, and develop creative strategies based on your favorite stocks.\n",
    "\n",
    "If you would like to download this tutorial directly, the .ipynb file is available directly at Paul's github repository at https://github.com/pzbarcea/pzbarcea.github.io\n",
    "\n",
    "Good luck and happy trading!"
   ]
  }
 ],
 "metadata": {
  "kernelspec": {
   "display_name": "Python 3",
   "language": "python",
   "name": "python3"
  },
  "language_info": {
   "codemirror_mode": {
    "name": "ipython",
    "version": 3
   },
   "file_extension": ".py",
   "mimetype": "text/x-python",
   "name": "python",
   "nbconvert_exporter": "python",
   "pygments_lexer": "ipython3",
   "version": "3.6.9"
  }
 },
 "nbformat": 4,
 "nbformat_minor": 4
}
